{
 "cells": [
  {
   "cell_type": "markdown",
   "metadata": {},
   "source": [
    "### Importing the required Libraries"
   ]
  },
  {
   "cell_type": "code",
   "execution_count": 1,
   "metadata": {
    "collapsed": true
   },
   "outputs": [],
   "source": [
    "import itertools\n",
    "import urllib.request\n",
    "from collections import Counter\n",
    "import csv\n",
    "import copy"
   ]
  },
  {
   "cell_type": "markdown",
   "metadata": {},
   "source": [
    "### Downloading the training data set"
   ]
  },
  {
   "cell_type": "code",
   "execution_count": 3,
   "metadata": {},
   "outputs": [
    {
     "data": {
      "text/plain": [
       "('market_basket_training.txt', <http.client.HTTPMessage at 0x4e809b0>)"
      ]
     },
     "execution_count": 3,
     "metadata": {},
     "output_type": "execute_result"
    }
   ],
   "source": [
    "urllib.request.urlretrieve('http://kevincrook.com/utd/market_basket_training.txt', 'market_basket_training.txt')"
   ]
  },
  {
   "cell_type": "markdown",
   "metadata": {},
   "source": [
    "### Reading the Training DataSet"
   ]
  },
  {
   "cell_type": "code",
   "execution_count": 4,
   "metadata": {},
   "outputs": [],
   "source": [
    "temp = open(\"market_basket_training.txt\", \"r\") \n",
    "temp1 = [line.split(',') for line in temp.readlines()]  \n",
    "for i in temp1:\n",
    "    del i[0]\n",
    "    i[-1] = i[-1].strip()"
   ]
  },
  {
   "cell_type": "code",
   "execution_count": 6,
   "metadata": {},
   "outputs": [],
   "source": [
    "frequency={}\n",
    "temp2 = Counter(tuple(x) for x in iter(temp1))\n",
    "for key,value in temp2.items():\n",
    "    frequency[key]=value"
   ]
  },
  {
   "cell_type": "markdown",
   "metadata": {},
   "source": [
    "### Downloading the Testing DataSet"
   ]
  },
  {
   "cell_type": "code",
   "execution_count": 7,
   "metadata": {},
   "outputs": [
    {
     "data": {
      "text/plain": [
       "('market_basket_test.txt', <http.client.HTTPMessage at 0x22fcf978>)"
      ]
     },
     "execution_count": 7,
     "metadata": {},
     "output_type": "execute_result"
    }
   ],
   "source": [
    "urllib.request.urlretrieve('http://kevincrook.com/utd/market_basket_test.txt', 'market_basket_test.txt') "
   ]
  },
  {
   "cell_type": "markdown",
   "metadata": {},
   "source": [
    "### Reading the Test DataSet"
   ]
  },
  {
   "cell_type": "code",
   "execution_count": 8,
   "metadata": {
    "collapsed": true
   },
   "outputs": [],
   "source": [
    "temp3 = open(\"market_basket_test.txt\", \"r\")\n",
    "temp4 = [line.split(',') for line in temp3.readlines()]  \n",
    "for i in temp4:\n",
    "    i[-1] = i[-1].strip()"
   ]
  },
  {
   "cell_type": "markdown",
   "metadata": {},
   "source": [
    "### Running Market Basket Analysis"
   ]
  },
  {
   "cell_type": "code",
   "execution_count": 10,
   "metadata": {},
   "outputs": [],
   "source": [
    "Freq=[]    \n",
    "output=[]\n",
    "sorted_list=[]\n",
    "for i in temp4:    \n",
    "    new_list=[]\n",
    "    temp5=[]\n",
    "    for k,v in frequency.items():\n",
    "        if len(k)==len(i[1::])+1:        \n",
    "            if all(x in k for x in i[1::]):\n",
    "                freq=[i[0],(set(k) - set(i[1::])).pop(),v]\n",
    "                new_list.append(freq)\n",
    "                output=copy.deepcopy(new_list)\n",
    "                temp5=copy.deepcopy(new_list)\n",
    "                \n",
    "    if not temp5:\n",
    "        temp6=[]\n",
    "        temp7 = list(itertools.combinations(i[1::], len(i)-2))\n",
    "        list_of_lists = [list(elem) for elem in temp7]\n",
    "        for l in list_of_lists:\n",
    "            new_list=[]\n",
    "            for k,v in frequency.items():\n",
    "                if len(k)==len(l)+1:   \n",
    "                    if all(x in k for x in l):\n",
    "                        freq=[i[0],(set(k) - set(l)).pop(),v]\n",
    "                        new_list.append(freq)\n",
    "                        output=copy.deepcopy(new_list)\n",
    "                        temp6=copy.deepcopy(new_list)\n",
    "            \n",
    "                        \n",
    "            if not temp6:\n",
    "               temp8 = list(itertools.combinations(l, len(l)-1))\n",
    "               list_of_lists1 = [list(elem) for elem in temp8]\n",
    "               for ll in list_of_lists1:    \n",
    "                   for k,v in frequency.items():\n",
    "                       if len(k)==len(ll)+1:        \n",
    "                           if all(x in k for x in ll):\n",
    "                               freq=[i[0],(set(k) - set(ll)).pop(),v]\n",
    "                               new_list.append(freq) \n",
    "                               output=copy.deepcopy(new_list)\n",
    "    \n",
    "    output.sort(key=lambda x: x[2], reverse=True)\n",
    "    \n",
    "    sorted_list.append(output[0])"
   ]
  },
  {
   "cell_type": "code",
   "execution_count": 11,
   "metadata": {
    "collapsed": true
   },
   "outputs": [],
   "source": [
    "for i in sorted_list:\n",
    "  del i[-1]"
   ]
  },
  {
   "cell_type": "markdown",
   "metadata": {},
   "source": [
    "### Writing the output in required Text File"
   ]
  },
  {
   "cell_type": "code",
   "execution_count": 12,
   "metadata": {},
   "outputs": [],
   "source": [
    "with open(\"market_basket_recommendations.txt\", \"w+\") as f:\n",
    "   writer = csv.writer(f)\n",
    "   writer.writerows(sorted_list)"
   ]
  },
  {
   "cell_type": "markdown",
   "metadata": {},
   "source": [
    "### Closing the files "
   ]
  },
  {
   "cell_type": "code",
   "execution_count": 13,
   "metadata": {
    "collapsed": true
   },
   "outputs": [],
   "source": [
    "temp.close()\n",
    "temp3.close()"
   ]
  }
 ],
 "metadata": {
  "kernelspec": {
   "display_name": "Python 3",
   "language": "python",
   "name": "python3"
  },
  "language_info": {
   "codemirror_mode": {
    "name": "ipython",
    "version": 3
   },
   "file_extension": ".py",
   "mimetype": "text/x-python",
   "name": "python",
   "nbconvert_exporter": "python",
   "pygments_lexer": "ipython3",
   "version": "3.6.1"
  }
 },
 "nbformat": 4,
 "nbformat_minor": 2
}
